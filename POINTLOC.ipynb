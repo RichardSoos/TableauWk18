{
 "cells": [
  {
   "cell_type": "code",
   "execution_count": 10,
   "metadata": {},
   "outputs": [
    {
     "name": "stderr",
     "output_type": "stream",
     "text": [
      "C:\\Users\\soosr\\AppData\\Local\\Temp\\ipykernel_3716\\1336571088.py:6: DtypeWarning: Columns (5,7) have mixed types. Specify dtype option on import or set low_memory=False.\n",
      "  df2 = pd.read_csv('202305-citibike-tripdata.csv')\n"
     ]
    }
   ],
   "source": [
    "import pandas as pd\n",
    "# Read the original Excel spreadsheet into a DataFrame\n",
    "df1 = pd.read_csv('JC-202305-citibike-tripdata.csv')\n",
    "\n",
    "# Read the second file into a DataFrame\n",
    "df2 = pd.read_csv('202305-citibike-tripdata.csv')\n",
    "\n",
    "# Remove duplicates from df1 and df2\n",
    "df1.drop_duplicates(subset=['start_lat', 'start_lng'], inplace=True)\n",
    "df2.drop_duplicates(subset=['start_lat', 'start_lng'], inplace=True)\n",
    "\n",
    "# Combine the DataFrames\n",
    "combined_df = pd.concat([df1[['start_lat', 'start_lng']], df2[['start_lat', 'start_lng']]])\n",
    "\n",
    "# Round the coordinates to the desired number of decimal places\n",
    "decimal_places = 3 # 4 decimal places is 10 metres, 3 is 100m \n",
    "combined_df['start_lat'] = combined_df['start_lat'].round(decimal_places)\n",
    "combined_df['start_lng'] = combined_df['start_lng'].round(decimal_places)\n",
    "\n",
    "# Remove duplicates from the combined DataFrame\n",
    "combined_df.drop_duplicates(inplace=True)\n",
    "\n",
    "# Save the unique start coordinates to a new CSV file\n",
    "combined_df.to_csv('All_loc.csv', index=False)"
   ]
  }
 ],
 "metadata": {
  "kernelspec": {
   "display_name": "soosdev",
   "language": "python",
   "name": "python3"
  },
  "language_info": {
   "codemirror_mode": {
    "name": "ipython",
    "version": 3
   },
   "file_extension": ".py",
   "mimetype": "text/x-python",
   "name": "python",
   "nbconvert_exporter": "python",
   "pygments_lexer": "ipython3",
   "version": "3.10.9"
  },
  "orig_nbformat": 4
 },
 "nbformat": 4,
 "nbformat_minor": 2
}
